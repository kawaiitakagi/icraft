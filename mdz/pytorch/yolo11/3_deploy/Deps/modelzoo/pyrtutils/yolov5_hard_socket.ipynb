{
 "cells": [
  {
   "cell_type": "markdown",
   "metadata": {},
   "source": [
    "带硬算子的socket脚本   \n",
    "区别在于，配置硬算子后，输出layout发生了变化，需要根据硬件输出的layout进行数据排布的转化、后处理，整体流程与不带硬算子的保持一致。   \n",
    "下面，让我们开始部署网络吧！"
   ]
  },
  {
   "cell_type": "markdown",
   "metadata": {},
   "source": [
    "首先import相关的包，分为三部分， 框架下相关包，icraft相关包，模型的前后处理、可视化   \n",
    "注意这里的后处理，已经是对应硬算子的后处理（detpost_hard）了，请注意区分。\n",
    "* xir:Icraft-XIR的python模块\n",
    "* xrt:Icraft-XIR的python模块(runtime运行时)\n",
    "* host_backend:Icraft-HostBackend的python模块\n",
    "* buyibackend:Icraft-BuyiBackend的python模块\n",
    "* preprocess:前处理模块\n",
    "* utils:功能函数模块，主要用来获取量化参数scale_list\n",
    "* detpost_hard:配硬算子的后处理模块\n",
    "* visualize:结果可视化模块"
   ]
  },
  {
   "cell_type": "code",
   "execution_count": 1,
   "metadata": {},
   "outputs": [],
   "source": [
    "import torch\n",
    "import numpy as np\n",
    "from typing import List\n",
    "import cv2\n",
    "import json\n",
    "import math \n",
    "\n",
    "from icraft.xir import *\n",
    "from icraft.xrt import *\n",
    "from icraft.host_backend import *\n",
    "from icraft.buyibackend import *\n",
    "\n",
    "from preprocess import letterbox,scale_coords\n",
    "from utils import dmaInit,fpgaOPlist,getOutputNormratio\n",
    "from detpost_hard import soft_nms,get_det_results\n",
    "from visualize import vis,COCO_CLASSES"
   ]
  },
  {
   "cell_type": "markdown",
   "metadata": {},
   "source": [
    "声明一些文件路径，主要是板子ip地址、icraft编译后的指令生成网络（json&raw文件）、测试图片"
   ]
  },
  {
   "cell_type": "code",
   "execution_count": 2,
   "metadata": {},
   "outputs": [],
   "source": [
    "# ---------------------------------参数设置---------------------------------\n",
    "# 路径设置 \n",
    "URL_PATH =  R\"socket://ql100aiu@192.168.125.184:9981?npu=0x40000000&dma=0x80000000\"\n",
    "GENERATED_JSON_FILE = \"./imodel/yolov5s_hard/yolov5s_BY.json\"\n",
    "GENERATED_RAW_FILE = \"./imodel/yolov5s_hard/yolov5s_BY.raw\"\n",
    "IMG_PATH=\"./images/000000000885.jpg\" "
   ]
  },
  {
   "cell_type": "markdown",
   "metadata": {},
   "source": [
    "下面是最主要的模型前向过程，分为以下几个步骤   \n",
    "* 1.开启device\n",
    "* 2.加载指令生成后的网络\n",
    "* 3.创建session并将整个网络绑定到BuyiBackend和HostBackend，使用Buyi_device和HostDevice\n",
    "* 4.加载测试图像并转成icraft.Tensor\n",
    "* 5.配置IMK，将ps端数据搬移至udma buffer （这一步不要忘记哦，否则会引起错误哦）\n",
    "* 6.模型前向推理"
   ]
  },
  {
   "cell_type": "code",
   "execution_count": 3,
   "metadata": {},
   "outputs": [
    {
     "name": "stdout",
     "output_type": "stream",
     "text": [
      "INFO:open device at: socket://ql100aiu@192.168.125.184:9981?npu=0x40000000&dma=0x80000000\n"
     ]
    }
   ],
   "source": [
    "# open device\n",
    "device = Device.Open(URL_PATH)\n",
    "print('INFO:open device at:',URL_PATH) "
   ]
  },
  {
   "cell_type": "code",
   "execution_count": 4,
   "metadata": {},
   "outputs": [
    {
     "name": "stdout",
     "output_type": "stream",
     "text": [
      "INFO: Create network!\n"
     ]
    }
   ],
   "source": [
    "# 加载指令生成后的网络\n",
    "network = Network.CreateFromJsonFile(GENERATED_JSON_FILE)\n",
    "network.loadParamsFromFile(GENERATED_RAW_FILE)\n",
    "print('INFO: Create network!')"
   ]
  },
  {
   "cell_type": "code",
   "execution_count": 5,
   "metadata": {},
   "outputs": [],
   "source": [
    "# 创建session并应用\n",
    "session = Session.Create([ BuyiBackend, HostBackend], network.view(1), [ device,HostDevice.Default()])\n",
    "session.apply()"
   ]
  },
  {
   "cell_type": "code",
   "execution_count": 6,
   "metadata": {},
   "outputs": [
    {
     "name": "stdout",
     "output_type": "stream",
     "text": [
      "INFO: load test image!\n"
     ]
    }
   ],
   "source": [
    "# 加载测试图像并转成icraft.Tensor\n",
    "img=cv2.imread(IMG_PATH)\n",
    "ri = letterbox(img,new_shape=(640,640),stride=32,auto=False)[0]\n",
    "img_=ri.reshape(1,640,640,3)\n",
    "input_tensor = Tensor(img_, Layout(\"NHWC\"))\n",
    "print('INFO: load test image!')"
   ]
  },
  {
   "cell_type": "code",
   "execution_count": 7,
   "metadata": {},
   "outputs": [
    {
     "name": "stdout",
     "output_type": "stream",
     "text": [
      "{'customop::DetPostNode', 'customop::ImageMakeNode'}\n",
      "IMK = True\n",
      "dmaInit done\n"
     ]
    }
   ],
   "source": [
    "# dma init\n",
    "customop_set=fpgaOPlist(network)\n",
    "print(customop_set)\n",
    "IMK = True if \"customop::ImageMakeNode\" in customop_set else False\n",
    "print('IMK =',IMK) #获取网络中是否使用了IMK硬算子\n",
    "dmaInit(device,input_tensor,[640,640,3],IMK) #如果使用了IMK硬算子，进行对应配置\n",
    "print('dmaInit done')"
   ]
  },
  {
   "cell_type": "code",
   "execution_count": 8,
   "metadata": {},
   "outputs": [],
   "source": [
    "# 模型前向推理\n",
    "output_tensors = session.forward( [input_tensor] )\n",
    "# 养成良好的使用习惯，网络前向结束后，重置device\n",
    "device.reset(0)"
   ]
  },
  {
   "cell_type": "markdown",
   "metadata": {},
   "source": [
    "此时，我们就获得了模型前向推理的结果，可以看一下三个检测头的输出结果！\n",
    "由于结果还在udma buffer中，需要调用tensor.to方法将输出结果从udma buffer搬运至ps端进行后续处理，这一步不要忘记哦\n",
    "请关注tensor.to(rt.HostDevice.MemRegion())的使用"
   ]
  },
  {
   "cell_type": "code",
   "execution_count": 9,
   "metadata": {},
   "outputs": [
    {
     "name": "stdout",
     "output_type": "stream",
     "text": [
      "anchor_0 shape = (1, 1, 760, 96)\n",
      "anchor_1 shape = (1, 1, 340, 96)\n",
      "anchor_2 shape = (1, 1, 106, 96)\n",
      "INFO: get icore results!\n"
     ]
    }
   ],
   "source": [
    "generated_output = []\n",
    "for tensor in output_tensors:\n",
    "    generated_output.append(np.asarray(tensor.to(HostDevice.MemRegion())))#data transfer2 [udma->ps]  \n",
    "\n",
    "print('anchor_0 shape =',np.array(generated_output[0]).shape) # [1,1,152,96]\n",
    "print('anchor_1 shape =',np.array(generated_output[1]).shape) # [1,1,100,96]\n",
    "print('anchor_2 shape =',np.array(generated_output[2]).shape) # [1,1,56,96]\n",
    "print('INFO: get icore results!')"
   ]
  },
  {
   "cell_type": "markdown",
   "metadata": {},
   "source": [
    "可以看到，输出的数据排布与不配硬算子时已近发生了变化，接下来要针对硬件输出的layout进行数据排布的转换，将icore_post的结果转化为检测结果。\n",
    "后处理一共包含3步，分别是：   \n",
    "* Step 1: 读取norm_ratio，对定点结果进行反量化\n",
    "* Step 2: 将icore_post结果转化为box_list,scores_list,id_list\n",
    "* Step 3: 进行非极大值抑制，取NMS后的结果"
   ]
  },
  {
   "cell_type": "code",
   "execution_count": 10,
   "metadata": {},
   "outputs": [
    {
     "name": "stdout",
     "output_type": "stream",
     "text": [
      "INFO: get scale results!\n",
      "[0.1493464342252476, 0.1250864539559432, 0.11689911489411602]\n"
     ]
    }
   ],
   "source": [
    " # Step1: 因为icore_post输出的是定点结果，所以需要读取norm_ratio，对定点结果进行反量化\n",
    "scale_list = getOutputNormratio(network)\n",
    "print('INFO: get scale results!')  \n",
    "print(scale_list)"
   ]
  },
  {
   "cell_type": "markdown",
   "metadata": {},
   "source": [
    "Step 2: 将icore_post结果转化为box_list,scores_list,id_list\n",
    "主要是根据硬件的数据排布格式，从[x,96]维度的icore_post硬件输出中计算x,y,w,h坐标   \n",
    "\n",
    "Step 1中提取的量化scale也在本步骤中对定点结果进行反量化，因此输出已经是浮点结果。\n",
    "有兴趣的可自行查看封装好的get_det_results和soft_nms函数内部实现过程。"
   ]
  },
  {
   "cell_type": "code",
   "execution_count": 11,
   "metadata": {},
   "outputs": [
    {
     "name": "stdout",
     "output_type": "stream",
     "text": [
      "INFO: get icore_post flatten results!\n",
      "INFO: get detection results!\n"
     ]
    }
   ],
   "source": [
    "# Step 2: 将icore_post结果转化为box_list,scores_list,id_list\n",
    "scores_list,box_list,id_list = get_det_results(generated_output,scale_list)\n",
    "print('INFO: get detection results!') "
   ]
  },
  {
   "cell_type": "code",
   "execution_count": 12,
   "metadata": {},
   "outputs": [
    {
     "name": "stdout",
     "output_type": "stream",
     "text": [
      "nms_indices = [1181, 1122, 1163, 640, 681, 1150]\n",
      "INFO: get NMS results!\n"
     ]
    }
   ],
   "source": [
    "# Step 3: NMS 取NMS后的结果\n",
    "nms_indices,nms_box_list,nms_score_list,nms_cls_ids = soft_nms(box_list, scores_list, id_list)\n",
    "print('nms_indices =',nms_indices)\n",
    "print('INFO: get NMS results!')  "
   ]
  },
  {
   "cell_type": "markdown",
   "metadata": {},
   "source": [
    "最终，将结果进行可视化，就可以看到配置硬算子的上板结果啦~是不是很简便，快来尝试着部署自己的网络吧:)"
   ]
  },
  {
   "cell_type": "code",
   "execution_count": 13,
   "metadata": {},
   "outputs": [],
   "source": [
    "# ---------------------------------结果可视化---------------------------------\n",
    "nms_box_list = scale_coords(img_.shape[1:], np.array(nms_box_list), img.shape)\n",
    "result_image = vis(img,boxes=nms_box_list,scores=nms_score_list,cls_ids=nms_cls_ids,conf=0.25,class_names=COCO_CLASSES)\n",
    "cv2.imshow(\" \", result_image)\n",
    "cv2.waitKey(0)\n",
    "cv2.destroyAllWindows()"
   ]
  },
  {
   "cell_type": "markdown",
   "metadata": {},
   "source": [
    "如果需要继续测试其他图片，只需要加载新的测试图片、重置device、重新调用session.forward即可。\n",
    "建议养成良好的使用习惯，每次session.forward后重置device，确保连续测试不同图像的正确性。"
   ]
  },
  {
   "cell_type": "code",
   "execution_count": 14,
   "metadata": {},
   "outputs": [
    {
     "name": "stdout",
     "output_type": "stream",
     "text": [
      "INFO: load test image!\n",
      "dmaInit done\n",
      "anchor_0 shape = (1, 1, 1382, 96)\n",
      "anchor_1 shape = (1, 1, 683, 96)\n",
      "anchor_2 shape = (1, 1, 220, 96)\n",
      "INFO: get icore results!\n",
      "INFO: get scale results!\n",
      "[0.1493464342252476, 0.1250864539559432, 0.11689911489411602]\n",
      "INFO: get icore_post flatten results!\n",
      "INFO: get detection results!\n",
      "nms_indices = [1457, 1890, 2145, 1747, 1981, 1983, 1625, 931, 2049, 2167, 2122, 2189, 1461, 335, 1108, 137, 516]\n",
      "INFO: get NMS results!\n"
     ]
    }
   ],
   "source": [
    "IMG1_PATH=\"./images/000000000139.jpg\" \n",
    "# 加载测试图像并转成icraft.Tensor\n",
    "img=cv2.imread(IMG1_PATH)\n",
    "ri = letterbox(img,new_shape=(640,640),stride=32,auto=False)[0]\n",
    "img_=ri.reshape(1,640,640,3)\n",
    "input_tensor = Tensor(img_, Layout(\"NHWC\"))\n",
    "print('INFO: load test image!')\n",
    "\n",
    "#如果使用了IMK硬算子，进行对应配置\n",
    "dmaInit(device,input_tensor,[640,640,3],IMK) \n",
    "print('dmaInit done')\n",
    "# 模型前向推理\n",
    "output_tensors = session.forward( [input_tensor] )\n",
    "# 重置device   这一步很重要！！！重置device   这一步很重要！！！重置device   这一步很重要！！！\n",
    "device.reset(1)\n",
    "# 将网络前向结果从PL搬到PS\n",
    "generated_output = []\n",
    "for tensor in output_tensors:\n",
    "    generated_output.append(np.asarray(tensor.to(HostDevice.MemRegion())))#data transfer2 [udma->ps]  \n",
    "\n",
    "print('anchor_0 shape =',np.array(generated_output[0]).shape) # [1,1,152,96]\n",
    "print('anchor_1 shape =',np.array(generated_output[1]).shape) # [1,1,100,96]\n",
    "print('anchor_2 shape =',np.array(generated_output[2]).shape) # [1,1,56,96]\n",
    "print('INFO: get icore results!')\n",
    " # Step1: 因为icore_post输出的是定点结果，所以需要读取norm_ratio，对定点结果进行反量化\n",
    "scale_list = getOutputNormratio(network)\n",
    "print('INFO: get scale results!')  \n",
    "print(scale_list)\n",
    "# Step 2: 将icore_post结果转化为box_list,scores_list,id_list\n",
    "scores_list,box_list,id_list = get_det_results(generated_output,scale_list)\n",
    "print('INFO: get detection results!') \n",
    "# Step 3: NMS 取NMS后的结果\n",
    "nms_indices,nms_box_list,nms_score_list,nms_cls_ids = soft_nms(box_list, scores_list, id_list)\n",
    "print('nms_indices =',nms_indices)\n",
    "print('INFO: get NMS results!')  \n",
    "# ---------------------------------结果可视化---------------------------------\n",
    "nms_box_list = scale_coords(img_.shape[1:], np.array(nms_box_list), img.shape)\n",
    "result_image = vis(img,boxes=nms_box_list,scores=nms_score_list,cls_ids=nms_cls_ids,conf=0.25,class_names=COCO_CLASSES)\n",
    "cv2.imshow(\" \", result_image)\n",
    "cv2.waitKey(0)\n",
    "cv2.destroyAllWindows()"
   ]
  },
  {
   "cell_type": "markdown",
   "metadata": {},
   "source": [
    "部署完毕，不要忘记关闭设备哦~"
   ]
  },
  {
   "cell_type": "code",
   "execution_count": 15,
   "metadata": {},
   "outputs": [],
   "source": [
    "# 关闭设备\n",
    "Device.Close(device)"
   ]
  }
 ],
 "metadata": {
  "kernelspec": {
   "display_name": "icraft3",
   "language": "python",
   "name": "python3"
  },
  "language_info": {
   "codemirror_mode": {
    "name": "ipython",
    "version": 3
   },
   "file_extension": ".py",
   "mimetype": "text/x-python",
   "name": "python",
   "nbconvert_exporter": "python",
   "pygments_lexer": "ipython3",
   "version": "3.8.18"
  }
 },
 "nbformat": 4,
 "nbformat_minor": 2
}
